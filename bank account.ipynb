{
 "cells": [
  {
   "cell_type": "code",
   "execution_count": 7,
   "id": "c71abba2",
   "metadata": {},
   "outputs": [
    {
     "name": "stdout",
     "output_type": "stream",
     "text": [
      "Deposited $10000. New balance: $11000\n",
      "Account Number: SAV-12345\n",
      "Balance: $11000\n",
      "Interest applied. New balance: $11550.0\n",
      "Account Number: SAV-12345\n",
      "Balance: $11550.0\n"
     ]
    }
   ],
   "source": [
    "class BankAccount:\n",
    "    def __init__(self, account_number, balance=0):\n",
    "        self.account_number = account_number\n",
    "        self.balance = balance\n",
    "    \n",
    "    def deposit(self, amount):\n",
    "        if amount > 0:\n",
    "            self.balance += amount\n",
    "            print(f\"Deposited ${amount}. New balance: ${self.balance}\")\n",
    "        else:\n",
    "            print(\"Deposit amount must be greater than zero.\")\n",
    "    \n",
    "    def withdraw(self, amount):\n",
    "        if 0 < amount <= self.balance:\n",
    "            self.balance -= amount\n",
    "            print(f\"Withdrew ${amount}. New balance: ${self.balance}\")\n",
    "        else:\n",
    "            print(\"Withdrawal amount must be greater than zero and less than or equal to balance.\")\n",
    "    \n",
    "    def display_balance(self):\n",
    "        print(f\"Account Number: {self.account_number}\")\n",
    "        print(f\"Balance: ${self.balance}\")\n",
    "\n",
    "\n",
    "class SavingsAccount(BankAccount):\n",
    "    def __init__(self, account_number, balance=0, interest_rate=0.05):\n",
    "        super().__init__(account_number, balance)\n",
    "        self.interest_rate = interest_rate\n",
    "    \n",
    "    def apply_interest(self):\n",
    "        interest_amount = self.balance * self.interest_rate\n",
    "        self.balance += interest_amount\n",
    "        print(f\"Interest applied. New balance: ${self.balance}\")\n",
    "        \n",
    "# Example usage:\n",
    "if __name__ == \"__main__\":\n",
    "    # Creating a savings account object\n",
    "    savings_account = SavingsAccount(\"SAV-12345\", 1000, 0.05)\n",
    "    \n",
    "    # Depositing and withdrawing from the savings account\n",
    "    savings_account.deposit(10000)\n",
    "     \n",
    "    # Displaying current balance\n",
    "    savings_account.display_balance()\n",
    "    \n",
    "    # Applying interest\n",
    "    savings_account.apply_interest()\n",
    "    savings_account.display_balance()\n",
    "   "
   ]
  },
  {
   "cell_type": "code",
   "execution_count": null,
   "id": "be57930e",
   "metadata": {},
   "outputs": [],
   "source": []
  }
 ],
 "metadata": {
  "kernelspec": {
   "display_name": "Python 3 (ipykernel)",
   "language": "python",
   "name": "python3"
  },
  "language_info": {
   "codemirror_mode": {
    "name": "ipython",
    "version": 3
   },
   "file_extension": ".py",
   "mimetype": "text/x-python",
   "name": "python",
   "nbconvert_exporter": "python",
   "pygments_lexer": "ipython3",
   "version": "3.9.13"
  }
 },
 "nbformat": 4,
 "nbformat_minor": 5
}
